{
 "cells": [
  {
   "cell_type": "code",
   "execution_count": 5,
   "metadata": {},
   "outputs": [
    {
     "name": "stdout",
     "output_type": "stream",
     "text": [
      "<table border=1 cellpadding=0 cellspacing=0 style='border-collapse: collapse' bordercolor='#111111' width='auto'><tbody><tr><td>UsedHIN</td><td><strong>MVIPK003G607</strong></td></tr><tr><td>IsValid</td><td><strong>Yes - Integrity Check Passed</strong></td></tr><tr><td>HINType</td><td><strong>Current</strong></td></tr><tr><td>SerialNo</td><td><strong>PK003</strong></td></tr><tr><td>Year</td><td><strong>2007</strong></td></tr><tr><td>IsStateIssued</td><td><strong>No</strong></td></tr><tr><td>Company</td><td><strong>Maverick Boat Company Inc</strong></td></tr><tr><td>CompanyStatus</td><td><strong>In Business</strong></td></tr><tr><td>CompanyAddress</td><td><strong>Ft Pierce Fl 3207 Industrial 29th Street</strong></td></tr><tr><td>Website</td><td><strong>mbcboats.com</strong></td></tr><tr><td>NumRecalls</td><td><strong>0</strong></td></tr></tbody></table>\n"
     ]
    }
   ],
   "source": [
    "# accessing Hull ID Biat API\n",
    "# import requests package\n",
    "import requests\n",
    "\n",
    "url = \"https://hull-id-boat-hin-decoder.p.rapidapi.com/\"\n",
    "\n",
    "querystring = {\"HIN\": \"MVIPK003G607\",\"usertable\": \"1\"}\n",
    "\n",
    "headers = {\n",
    "    'x-rapidapi-key': \"fd721ba419msh250e173e8a38d2cp18d753jsnc5f33001c67c\",\n",
    "\t'x-rapidapi-host': \"hull-id-boat-hin-decoder.p.rapidapi.com\"\n",
    "    }\n",
    "response = requests.request(\"GET\", url, headers=headers, params=querystring)\n",
    "\n",
    "print(response.text)"
   ]
  },
  {
   "cell_type": "code",
   "execution_count": null,
   "metadata": {},
   "outputs": [],
   "source": []
  }
 ],
 "metadata": {
  "kernelspec": {
   "display_name": "Python 3",
   "language": "python",
   "name": "python3"
  },
  "language_info": {
   "codemirror_mode": {
    "name": "ipython",
    "version": 3
   },
   "file_extension": ".py",
   "mimetype": "text/x-python",
   "name": "python",
   "nbconvert_exporter": "python",
   "pygments_lexer": "ipython3",
   "version": "3.8.5"
  }
 },
 "nbformat": 4,
 "nbformat_minor": 4
}
